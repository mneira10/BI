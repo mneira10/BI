{
 "cells": [
  {
   "cell_type": "code",
   "execution_count": 1,
   "metadata": {},
   "outputs": [],
   "source": [
    "import pandas as pd\n",
    "import pandas_profiling\n",
    "from sodapy import Socrata\n",
    "import math as math\n",
    "import numpy as np"
   ]
  },
  {
   "cell_type": "code",
   "execution_count": 3,
   "metadata": {},
   "outputs": [
    {
     "name": "stderr",
     "output_type": "stream",
     "text": [
      "WARNING:root:Requests made without an app_token will be subject to strict throttling limits.\n"
     ]
    },
    {
     "ename": "SSLError",
     "evalue": "HTTPSConnectionPool(host='www.datos.gov.co', port=443): Max retries exceeded with url: /resource/c2d5-enis.json?%24limit=10000 (Caused by SSLError(SSLError(\"bad handshake: SysCallError(-1, 'Unexpected EOF')\",),))",
     "output_type": "error",
     "traceback": [
      "\u001b[0;31m---------------------------------------------------------------------------\u001b[0m",
      "\u001b[0;31mSysCallError\u001b[0m                              Traceback (most recent call last)",
      "\u001b[0;32m~/anaconda3/lib/python3.6/site-packages/urllib3/contrib/pyopenssl.py\u001b[0m in \u001b[0;36mwrap_socket\u001b[0;34m(self, sock, server_side, do_handshake_on_connect, suppress_ragged_eofs, server_hostname)\u001b[0m\n\u001b[1;32m    440\u001b[0m             \u001b[0;32mtry\u001b[0m\u001b[0;34m:\u001b[0m\u001b[0;34m\u001b[0m\u001b[0m\n\u001b[0;32m--> 441\u001b[0;31m                 \u001b[0mcnx\u001b[0m\u001b[0;34m.\u001b[0m\u001b[0mdo_handshake\u001b[0m\u001b[0;34m(\u001b[0m\u001b[0;34m)\u001b[0m\u001b[0;34m\u001b[0m\u001b[0m\n\u001b[0m\u001b[1;32m    442\u001b[0m             \u001b[0;32mexcept\u001b[0m \u001b[0mOpenSSL\u001b[0m\u001b[0;34m.\u001b[0m\u001b[0mSSL\u001b[0m\u001b[0;34m.\u001b[0m\u001b[0mWantReadError\u001b[0m\u001b[0;34m:\u001b[0m\u001b[0;34m\u001b[0m\u001b[0m\n",
      "\u001b[0;32m~/anaconda3/lib/python3.6/site-packages/OpenSSL/SSL.py\u001b[0m in \u001b[0;36mdo_handshake\u001b[0;34m(self)\u001b[0m\n\u001b[1;32m   1805\u001b[0m         \u001b[0mresult\u001b[0m \u001b[0;34m=\u001b[0m \u001b[0m_lib\u001b[0m\u001b[0;34m.\u001b[0m\u001b[0mSSL_do_handshake\u001b[0m\u001b[0;34m(\u001b[0m\u001b[0mself\u001b[0m\u001b[0;34m.\u001b[0m\u001b[0m_ssl\u001b[0m\u001b[0;34m)\u001b[0m\u001b[0;34m\u001b[0m\u001b[0m\n\u001b[0;32m-> 1806\u001b[0;31m         \u001b[0mself\u001b[0m\u001b[0;34m.\u001b[0m\u001b[0m_raise_ssl_error\u001b[0m\u001b[0;34m(\u001b[0m\u001b[0mself\u001b[0m\u001b[0;34m.\u001b[0m\u001b[0m_ssl\u001b[0m\u001b[0;34m,\u001b[0m \u001b[0mresult\u001b[0m\u001b[0;34m)\u001b[0m\u001b[0;34m\u001b[0m\u001b[0m\n\u001b[0m\u001b[1;32m   1807\u001b[0m \u001b[0;34m\u001b[0m\u001b[0m\n",
      "\u001b[0;32m~/anaconda3/lib/python3.6/site-packages/OpenSSL/SSL.py\u001b[0m in \u001b[0;36m_raise_ssl_error\u001b[0;34m(self, ssl, result)\u001b[0m\n\u001b[1;32m   1538\u001b[0m                         \u001b[0;32mraise\u001b[0m \u001b[0mSysCallError\u001b[0m\u001b[0;34m(\u001b[0m\u001b[0merrno\u001b[0m\u001b[0;34m,\u001b[0m \u001b[0merrorcode\u001b[0m\u001b[0;34m.\u001b[0m\u001b[0mget\u001b[0m\u001b[0;34m(\u001b[0m\u001b[0merrno\u001b[0m\u001b[0;34m)\u001b[0m\u001b[0;34m)\u001b[0m\u001b[0;34m\u001b[0m\u001b[0m\n\u001b[0;32m-> 1539\u001b[0;31m                 \u001b[0;32mraise\u001b[0m \u001b[0mSysCallError\u001b[0m\u001b[0;34m(\u001b[0m\u001b[0;34m-\u001b[0m\u001b[0;36m1\u001b[0m\u001b[0;34m,\u001b[0m \u001b[0;34m\"Unexpected EOF\"\u001b[0m\u001b[0;34m)\u001b[0m\u001b[0;34m\u001b[0m\u001b[0m\n\u001b[0m\u001b[1;32m   1540\u001b[0m             \u001b[0;32melse\u001b[0m\u001b[0;34m:\u001b[0m\u001b[0;34m\u001b[0m\u001b[0m\n",
      "\u001b[0;31mSysCallError\u001b[0m: (-1, 'Unexpected EOF')",
      "\nDuring handling of the above exception, another exception occurred:\n",
      "\u001b[0;31mSSLError\u001b[0m                                  Traceback (most recent call last)",
      "\u001b[0;32m~/anaconda3/lib/python3.6/site-packages/urllib3/connectionpool.py\u001b[0m in \u001b[0;36murlopen\u001b[0;34m(self, method, url, body, headers, retries, redirect, assert_same_host, timeout, pool_timeout, release_conn, chunked, body_pos, **response_kw)\u001b[0m\n\u001b[1;32m    600\u001b[0m                                                   \u001b[0mbody\u001b[0m\u001b[0;34m=\u001b[0m\u001b[0mbody\u001b[0m\u001b[0;34m,\u001b[0m \u001b[0mheaders\u001b[0m\u001b[0;34m=\u001b[0m\u001b[0mheaders\u001b[0m\u001b[0;34m,\u001b[0m\u001b[0;34m\u001b[0m\u001b[0m\n\u001b[0;32m--> 601\u001b[0;31m                                                   chunked=chunked)\n\u001b[0m\u001b[1;32m    602\u001b[0m \u001b[0;34m\u001b[0m\u001b[0m\n",
      "\u001b[0;32m~/anaconda3/lib/python3.6/site-packages/urllib3/connectionpool.py\u001b[0m in \u001b[0;36m_make_request\u001b[0;34m(self, conn, method, url, timeout, chunked, **httplib_request_kw)\u001b[0m\n\u001b[1;32m    345\u001b[0m         \u001b[0;32mtry\u001b[0m\u001b[0;34m:\u001b[0m\u001b[0;34m\u001b[0m\u001b[0m\n\u001b[0;32m--> 346\u001b[0;31m             \u001b[0mself\u001b[0m\u001b[0;34m.\u001b[0m\u001b[0m_validate_conn\u001b[0m\u001b[0;34m(\u001b[0m\u001b[0mconn\u001b[0m\u001b[0;34m)\u001b[0m\u001b[0;34m\u001b[0m\u001b[0m\n\u001b[0m\u001b[1;32m    347\u001b[0m         \u001b[0;32mexcept\u001b[0m \u001b[0;34m(\u001b[0m\u001b[0mSocketTimeout\u001b[0m\u001b[0;34m,\u001b[0m \u001b[0mBaseSSLError\u001b[0m\u001b[0;34m)\u001b[0m \u001b[0;32mas\u001b[0m \u001b[0me\u001b[0m\u001b[0;34m:\u001b[0m\u001b[0;34m\u001b[0m\u001b[0m\n",
      "\u001b[0;32m~/anaconda3/lib/python3.6/site-packages/urllib3/connectionpool.py\u001b[0m in \u001b[0;36m_validate_conn\u001b[0;34m(self, conn)\u001b[0m\n\u001b[1;32m    849\u001b[0m         \u001b[0;32mif\u001b[0m \u001b[0;32mnot\u001b[0m \u001b[0mgetattr\u001b[0m\u001b[0;34m(\u001b[0m\u001b[0mconn\u001b[0m\u001b[0;34m,\u001b[0m \u001b[0;34m'sock'\u001b[0m\u001b[0;34m,\u001b[0m \u001b[0;32mNone\u001b[0m\u001b[0;34m)\u001b[0m\u001b[0;34m:\u001b[0m  \u001b[0;31m# AppEngine might not have  `.sock`\u001b[0m\u001b[0;34m\u001b[0m\u001b[0m\n\u001b[0;32m--> 850\u001b[0;31m             \u001b[0mconn\u001b[0m\u001b[0;34m.\u001b[0m\u001b[0mconnect\u001b[0m\u001b[0;34m(\u001b[0m\u001b[0;34m)\u001b[0m\u001b[0;34m\u001b[0m\u001b[0m\n\u001b[0m\u001b[1;32m    851\u001b[0m \u001b[0;34m\u001b[0m\u001b[0m\n",
      "\u001b[0;32m~/anaconda3/lib/python3.6/site-packages/urllib3/connection.py\u001b[0m in \u001b[0;36mconnect\u001b[0;34m(self)\u001b[0m\n\u001b[1;32m    325\u001b[0m             \u001b[0mserver_hostname\u001b[0m\u001b[0;34m=\u001b[0m\u001b[0mhostname\u001b[0m\u001b[0;34m,\u001b[0m\u001b[0;34m\u001b[0m\u001b[0m\n\u001b[0;32m--> 326\u001b[0;31m             ssl_context=context)\n\u001b[0m\u001b[1;32m    327\u001b[0m \u001b[0;34m\u001b[0m\u001b[0m\n",
      "\u001b[0;32m~/anaconda3/lib/python3.6/site-packages/urllib3/util/ssl_.py\u001b[0m in \u001b[0;36mssl_wrap_socket\u001b[0;34m(sock, keyfile, certfile, cert_reqs, ca_certs, server_hostname, ssl_version, ciphers, ssl_context, ca_cert_dir)\u001b[0m\n\u001b[1;32m    328\u001b[0m     \u001b[0;32mif\u001b[0m \u001b[0mHAS_SNI\u001b[0m\u001b[0;34m:\u001b[0m  \u001b[0;31m# Platform-specific: OpenSSL with enabled SNI\u001b[0m\u001b[0;34m\u001b[0m\u001b[0m\n\u001b[0;32m--> 329\u001b[0;31m         \u001b[0;32mreturn\u001b[0m \u001b[0mcontext\u001b[0m\u001b[0;34m.\u001b[0m\u001b[0mwrap_socket\u001b[0m\u001b[0;34m(\u001b[0m\u001b[0msock\u001b[0m\u001b[0;34m,\u001b[0m \u001b[0mserver_hostname\u001b[0m\u001b[0;34m=\u001b[0m\u001b[0mserver_hostname\u001b[0m\u001b[0;34m)\u001b[0m\u001b[0;34m\u001b[0m\u001b[0m\n\u001b[0m\u001b[1;32m    330\u001b[0m \u001b[0;34m\u001b[0m\u001b[0m\n",
      "\u001b[0;32m~/anaconda3/lib/python3.6/site-packages/urllib3/contrib/pyopenssl.py\u001b[0m in \u001b[0;36mwrap_socket\u001b[0;34m(self, sock, server_side, do_handshake_on_connect, suppress_ragged_eofs, server_hostname)\u001b[0m\n\u001b[1;32m    447\u001b[0m             \u001b[0;32mexcept\u001b[0m \u001b[0mOpenSSL\u001b[0m\u001b[0;34m.\u001b[0m\u001b[0mSSL\u001b[0m\u001b[0;34m.\u001b[0m\u001b[0mError\u001b[0m \u001b[0;32mas\u001b[0m \u001b[0me\u001b[0m\u001b[0;34m:\u001b[0m\u001b[0;34m\u001b[0m\u001b[0m\n\u001b[0;32m--> 448\u001b[0;31m                 \u001b[0;32mraise\u001b[0m \u001b[0mssl\u001b[0m\u001b[0;34m.\u001b[0m\u001b[0mSSLError\u001b[0m\u001b[0;34m(\u001b[0m\u001b[0;34m'bad handshake: %r'\u001b[0m \u001b[0;34m%\u001b[0m \u001b[0me\u001b[0m\u001b[0;34m)\u001b[0m\u001b[0;34m\u001b[0m\u001b[0m\n\u001b[0m\u001b[1;32m    449\u001b[0m             \u001b[0;32mbreak\u001b[0m\u001b[0;34m\u001b[0m\u001b[0m\n",
      "\u001b[0;31mSSLError\u001b[0m: (\"bad handshake: SysCallError(-1, 'Unexpected EOF')\",)",
      "\nDuring handling of the above exception, another exception occurred:\n",
      "\u001b[0;31mMaxRetryError\u001b[0m                             Traceback (most recent call last)",
      "\u001b[0;32m~/anaconda3/lib/python3.6/site-packages/requests/adapters.py\u001b[0m in \u001b[0;36msend\u001b[0;34m(self, request, stream, timeout, verify, cert, proxies)\u001b[0m\n\u001b[1;32m    439\u001b[0m                     \u001b[0mretries\u001b[0m\u001b[0;34m=\u001b[0m\u001b[0mself\u001b[0m\u001b[0;34m.\u001b[0m\u001b[0mmax_retries\u001b[0m\u001b[0;34m,\u001b[0m\u001b[0;34m\u001b[0m\u001b[0m\n\u001b[0;32m--> 440\u001b[0;31m                     \u001b[0mtimeout\u001b[0m\u001b[0;34m=\u001b[0m\u001b[0mtimeout\u001b[0m\u001b[0;34m\u001b[0m\u001b[0m\n\u001b[0m\u001b[1;32m    441\u001b[0m                 )\n",
      "\u001b[0;32m~/anaconda3/lib/python3.6/site-packages/urllib3/connectionpool.py\u001b[0m in \u001b[0;36murlopen\u001b[0;34m(self, method, url, body, headers, retries, redirect, assert_same_host, timeout, pool_timeout, release_conn, chunked, body_pos, **response_kw)\u001b[0m\n\u001b[1;32m    638\u001b[0m             retries = retries.increment(method, url, error=e, _pool=self,\n\u001b[0;32m--> 639\u001b[0;31m                                         _stacktrace=sys.exc_info()[2])\n\u001b[0m\u001b[1;32m    640\u001b[0m             \u001b[0mretries\u001b[0m\u001b[0;34m.\u001b[0m\u001b[0msleep\u001b[0m\u001b[0;34m(\u001b[0m\u001b[0;34m)\u001b[0m\u001b[0;34m\u001b[0m\u001b[0m\n",
      "\u001b[0;32m~/anaconda3/lib/python3.6/site-packages/urllib3/util/retry.py\u001b[0m in \u001b[0;36mincrement\u001b[0;34m(self, method, url, response, error, _pool, _stacktrace)\u001b[0m\n\u001b[1;32m    387\u001b[0m         \u001b[0;32mif\u001b[0m \u001b[0mnew_retry\u001b[0m\u001b[0;34m.\u001b[0m\u001b[0mis_exhausted\u001b[0m\u001b[0;34m(\u001b[0m\u001b[0;34m)\u001b[0m\u001b[0;34m:\u001b[0m\u001b[0;34m\u001b[0m\u001b[0m\n\u001b[0;32m--> 388\u001b[0;31m             \u001b[0;32mraise\u001b[0m \u001b[0mMaxRetryError\u001b[0m\u001b[0;34m(\u001b[0m\u001b[0m_pool\u001b[0m\u001b[0;34m,\u001b[0m \u001b[0murl\u001b[0m\u001b[0;34m,\u001b[0m \u001b[0merror\u001b[0m \u001b[0;32mor\u001b[0m \u001b[0mResponseError\u001b[0m\u001b[0;34m(\u001b[0m\u001b[0mcause\u001b[0m\u001b[0;34m)\u001b[0m\u001b[0;34m)\u001b[0m\u001b[0;34m\u001b[0m\u001b[0m\n\u001b[0m\u001b[1;32m    389\u001b[0m \u001b[0;34m\u001b[0m\u001b[0m\n",
      "\u001b[0;31mMaxRetryError\u001b[0m: HTTPSConnectionPool(host='www.datos.gov.co', port=443): Max retries exceeded with url: /resource/c2d5-enis.json?%24limit=10000 (Caused by SSLError(SSLError(\"bad handshake: SysCallError(-1, 'Unexpected EOF')\",),))",
      "\nDuring handling of the above exception, another exception occurred:\n",
      "\u001b[0;31mSSLError\u001b[0m                                  Traceback (most recent call last)",
      "\u001b[0;32m<ipython-input-3-0afe6aef2547>\u001b[0m in \u001b[0;36m<module>\u001b[0;34m()\u001b[0m\n\u001b[1;32m      3\u001b[0m \u001b[0;31m# results = client.get(\"npnf-f7xg\", limit=20000)\u001b[0m\u001b[0;34m\u001b[0m\u001b[0;34m\u001b[0m\u001b[0m\n\u001b[1;32m      4\u001b[0m \u001b[0;31m# df = pd.DataFrame.from_records(results)\u001b[0m\u001b[0;34m\u001b[0m\u001b[0;34m\u001b[0m\u001b[0m\n\u001b[0;32m----> 5\u001b[0;31m \u001b[0mresult_list\u001b[0m \u001b[0;34m=\u001b[0m \u001b[0mclient\u001b[0m\u001b[0;34m.\u001b[0m\u001b[0mget\u001b[0m\u001b[0;34m(\u001b[0m\u001b[0;34m\"c2d5-enis\"\u001b[0m\u001b[0;34m,\u001b[0m \u001b[0mlimit\u001b[0m\u001b[0;34m=\u001b[0m\u001b[0;36m10000\u001b[0m\u001b[0;34m)\u001b[0m\u001b[0;34m\u001b[0m\u001b[0m\n\u001b[0m\u001b[1;32m      6\u001b[0m \u001b[0;34m\u001b[0m\u001b[0m\n\u001b[1;32m      7\u001b[0m \u001b[0;31m# Convert to pandas DataFrame\u001b[0m\u001b[0;34m\u001b[0m\u001b[0;34m\u001b[0m\u001b[0m\n",
      "\u001b[0;32m~/anaconda3/lib/python3.6/site-packages/sodapy/__init__.py\u001b[0m in \u001b[0;36mget\u001b[0;34m(self, dataset_identifier, content_type, **kwargs)\u001b[0m\n\u001b[1;32m    250\u001b[0m \u001b[0;34m\u001b[0m\u001b[0m\n\u001b[1;32m    251\u001b[0m         response = self._perform_request(\"get\", resource, headers=headers,\n\u001b[0;32m--> 252\u001b[0;31m                                          params=params)\n\u001b[0m\u001b[1;32m    253\u001b[0m         \u001b[0;32mreturn\u001b[0m \u001b[0mresponse\u001b[0m\u001b[0;34m\u001b[0m\u001b[0m\n\u001b[1;32m    254\u001b[0m \u001b[0;34m\u001b[0m\u001b[0m\n",
      "\u001b[0;32m~/anaconda3/lib/python3.6/site-packages/sodapy/__init__.py\u001b[0m in \u001b[0;36m_perform_request\u001b[0;34m(self, request_type, resource, **kwargs)\u001b[0m\n\u001b[1;32m    361\u001b[0m         \u001b[0mkwargs\u001b[0m\u001b[0;34m[\u001b[0m\u001b[0;34m\"timeout\"\u001b[0m\u001b[0;34m]\u001b[0m \u001b[0;34m=\u001b[0m \u001b[0mself\u001b[0m\u001b[0;34m.\u001b[0m\u001b[0mtimeout\u001b[0m\u001b[0;34m\u001b[0m\u001b[0m\n\u001b[1;32m    362\u001b[0m \u001b[0;34m\u001b[0m\u001b[0m\n\u001b[0;32m--> 363\u001b[0;31m         \u001b[0mresponse\u001b[0m \u001b[0;34m=\u001b[0m \u001b[0mgetattr\u001b[0m\u001b[0;34m(\u001b[0m\u001b[0mself\u001b[0m\u001b[0;34m.\u001b[0m\u001b[0msession\u001b[0m\u001b[0;34m,\u001b[0m \u001b[0mrequest_type\u001b[0m\u001b[0;34m)\u001b[0m\u001b[0;34m(\u001b[0m\u001b[0muri\u001b[0m\u001b[0;34m,\u001b[0m \u001b[0;34m**\u001b[0m\u001b[0mkwargs\u001b[0m\u001b[0;34m)\u001b[0m\u001b[0;34m\u001b[0m\u001b[0m\n\u001b[0m\u001b[1;32m    364\u001b[0m \u001b[0;34m\u001b[0m\u001b[0m\n\u001b[1;32m    365\u001b[0m         \u001b[0;31m# handle errors\u001b[0m\u001b[0;34m\u001b[0m\u001b[0;34m\u001b[0m\u001b[0m\n",
      "\u001b[0;32m~/anaconda3/lib/python3.6/site-packages/requests/sessions.py\u001b[0m in \u001b[0;36mget\u001b[0;34m(self, url, **kwargs)\u001b[0m\n\u001b[1;32m    519\u001b[0m \u001b[0;34m\u001b[0m\u001b[0m\n\u001b[1;32m    520\u001b[0m         \u001b[0mkwargs\u001b[0m\u001b[0;34m.\u001b[0m\u001b[0msetdefault\u001b[0m\u001b[0;34m(\u001b[0m\u001b[0;34m'allow_redirects'\u001b[0m\u001b[0;34m,\u001b[0m \u001b[0;32mTrue\u001b[0m\u001b[0;34m)\u001b[0m\u001b[0;34m\u001b[0m\u001b[0m\n\u001b[0;32m--> 521\u001b[0;31m         \u001b[0;32mreturn\u001b[0m \u001b[0mself\u001b[0m\u001b[0;34m.\u001b[0m\u001b[0mrequest\u001b[0m\u001b[0;34m(\u001b[0m\u001b[0;34m'GET'\u001b[0m\u001b[0;34m,\u001b[0m \u001b[0murl\u001b[0m\u001b[0;34m,\u001b[0m \u001b[0;34m**\u001b[0m\u001b[0mkwargs\u001b[0m\u001b[0;34m)\u001b[0m\u001b[0;34m\u001b[0m\u001b[0m\n\u001b[0m\u001b[1;32m    522\u001b[0m \u001b[0;34m\u001b[0m\u001b[0m\n\u001b[1;32m    523\u001b[0m     \u001b[0;32mdef\u001b[0m \u001b[0moptions\u001b[0m\u001b[0;34m(\u001b[0m\u001b[0mself\u001b[0m\u001b[0;34m,\u001b[0m \u001b[0murl\u001b[0m\u001b[0;34m,\u001b[0m \u001b[0;34m**\u001b[0m\u001b[0mkwargs\u001b[0m\u001b[0;34m)\u001b[0m\u001b[0;34m:\u001b[0m\u001b[0;34m\u001b[0m\u001b[0m\n",
      "\u001b[0;32m~/anaconda3/lib/python3.6/site-packages/requests/sessions.py\u001b[0m in \u001b[0;36mrequest\u001b[0;34m(self, method, url, params, data, headers, cookies, files, auth, timeout, allow_redirects, proxies, hooks, stream, verify, cert, json)\u001b[0m\n\u001b[1;32m    506\u001b[0m         }\n\u001b[1;32m    507\u001b[0m         \u001b[0msend_kwargs\u001b[0m\u001b[0;34m.\u001b[0m\u001b[0mupdate\u001b[0m\u001b[0;34m(\u001b[0m\u001b[0msettings\u001b[0m\u001b[0;34m)\u001b[0m\u001b[0;34m\u001b[0m\u001b[0m\n\u001b[0;32m--> 508\u001b[0;31m         \u001b[0mresp\u001b[0m \u001b[0;34m=\u001b[0m \u001b[0mself\u001b[0m\u001b[0;34m.\u001b[0m\u001b[0msend\u001b[0m\u001b[0;34m(\u001b[0m\u001b[0mprep\u001b[0m\u001b[0;34m,\u001b[0m \u001b[0;34m**\u001b[0m\u001b[0msend_kwargs\u001b[0m\u001b[0;34m)\u001b[0m\u001b[0;34m\u001b[0m\u001b[0m\n\u001b[0m\u001b[1;32m    509\u001b[0m \u001b[0;34m\u001b[0m\u001b[0m\n\u001b[1;32m    510\u001b[0m         \u001b[0;32mreturn\u001b[0m \u001b[0mresp\u001b[0m\u001b[0;34m\u001b[0m\u001b[0m\n",
      "\u001b[0;32m~/anaconda3/lib/python3.6/site-packages/requests/sessions.py\u001b[0m in \u001b[0;36msend\u001b[0;34m(self, request, **kwargs)\u001b[0m\n\u001b[1;32m    616\u001b[0m \u001b[0;34m\u001b[0m\u001b[0m\n\u001b[1;32m    617\u001b[0m         \u001b[0;31m# Send the request\u001b[0m\u001b[0;34m\u001b[0m\u001b[0;34m\u001b[0m\u001b[0m\n\u001b[0;32m--> 618\u001b[0;31m         \u001b[0mr\u001b[0m \u001b[0;34m=\u001b[0m \u001b[0madapter\u001b[0m\u001b[0;34m.\u001b[0m\u001b[0msend\u001b[0m\u001b[0;34m(\u001b[0m\u001b[0mrequest\u001b[0m\u001b[0;34m,\u001b[0m \u001b[0;34m**\u001b[0m\u001b[0mkwargs\u001b[0m\u001b[0;34m)\u001b[0m\u001b[0;34m\u001b[0m\u001b[0m\n\u001b[0m\u001b[1;32m    619\u001b[0m \u001b[0;34m\u001b[0m\u001b[0m\n\u001b[1;32m    620\u001b[0m         \u001b[0;31m# Total elapsed time of the request (approximately)\u001b[0m\u001b[0;34m\u001b[0m\u001b[0;34m\u001b[0m\u001b[0m\n",
      "\u001b[0;32m~/anaconda3/lib/python3.6/site-packages/requests/adapters.py\u001b[0m in \u001b[0;36msend\u001b[0;34m(self, request, stream, timeout, verify, cert, proxies)\u001b[0m\n\u001b[1;32m    504\u001b[0m             \u001b[0;32mif\u001b[0m \u001b[0misinstance\u001b[0m\u001b[0;34m(\u001b[0m\u001b[0me\u001b[0m\u001b[0;34m.\u001b[0m\u001b[0mreason\u001b[0m\u001b[0;34m,\u001b[0m \u001b[0m_SSLError\u001b[0m\u001b[0;34m)\u001b[0m\u001b[0;34m:\u001b[0m\u001b[0;34m\u001b[0m\u001b[0m\n\u001b[1;32m    505\u001b[0m                 \u001b[0;31m# This branch is for urllib3 v1.22 and later.\u001b[0m\u001b[0;34m\u001b[0m\u001b[0;34m\u001b[0m\u001b[0m\n\u001b[0;32m--> 506\u001b[0;31m                 \u001b[0;32mraise\u001b[0m \u001b[0mSSLError\u001b[0m\u001b[0;34m(\u001b[0m\u001b[0me\u001b[0m\u001b[0;34m,\u001b[0m \u001b[0mrequest\u001b[0m\u001b[0;34m=\u001b[0m\u001b[0mrequest\u001b[0m\u001b[0;34m)\u001b[0m\u001b[0;34m\u001b[0m\u001b[0m\n\u001b[0m\u001b[1;32m    507\u001b[0m \u001b[0;34m\u001b[0m\u001b[0m\n\u001b[1;32m    508\u001b[0m             \u001b[0;32mraise\u001b[0m \u001b[0mConnectionError\u001b[0m\u001b[0;34m(\u001b[0m\u001b[0me\u001b[0m\u001b[0;34m,\u001b[0m \u001b[0mrequest\u001b[0m\u001b[0;34m=\u001b[0m\u001b[0mrequest\u001b[0m\u001b[0;34m)\u001b[0m\u001b[0;34m\u001b[0m\u001b[0m\n",
      "\u001b[0;31mSSLError\u001b[0m: HTTPSConnectionPool(host='www.datos.gov.co', port=443): Max retries exceeded with url: /resource/c2d5-enis.json?%24limit=10000 (Caused by SSLError(SSLError(\"bad handshake: SysCallError(-1, 'Unexpected EOF')\",),))"
     ]
    }
   ],
   "source": [
    "# df = pd.read_json(\"homicidios.json\")\n",
    "client = Socrata(\"www.datos.gov.co\", None)\n",
    "# results = client.get(\"npnf-f7xg\", limit=20000)\n",
    "# df = pd.DataFrame.from_records(results)\n",
    "result_list = client.get(\"c2d5-enis\", limit=10000)\n",
    "\n",
    "# Convert to pandas DataFrame\n",
    "df = pd.DataFrame.from_records(result_list)"
   ]
  },
  {
   "cell_type": "code",
   "execution_count": 4,
   "metadata": {},
   "outputs": [
    {
     "ename": "NameError",
     "evalue": "name 'df' is not defined",
     "output_type": "error",
     "traceback": [
      "\u001b[0;31m---------------------------------------------------------------------------\u001b[0m",
      "\u001b[0;31mNameError\u001b[0m                                 Traceback (most recent call last)",
      "\u001b[0;32m<ipython-input-4-633337079cd0>\u001b[0m in \u001b[0;36m<module>\u001b[0;34m()\u001b[0m\n\u001b[0;32m----> 1\u001b[0;31m \u001b[0mdf\u001b[0m\u001b[0;34m.\u001b[0m\u001b[0mshape\u001b[0m\u001b[0;34m\u001b[0m\u001b[0m\n\u001b[0m",
      "\u001b[0;31mNameError\u001b[0m: name 'df' is not defined"
     ]
    }
   ],
   "source": [
    "df.shape"
   ]
  },
  {
   "cell_type": "markdown",
   "metadata": {},
   "source": [
    "# Pre-procesamiento\n"
   ]
  },
  {
   "cell_type": "code",
   "execution_count": 284,
   "metadata": {},
   "outputs": [],
   "source": [
    "df = df.drop(columns=['estu_etnia',\n",
    "'estu_fecha_nacimiento',\n",
    "'estu_ano_termino_bachill',\n",
    "'estu_mes_termino_bachill',\n",
    "'estu_recibe_salario',\n",
    "'estu_veces_estado_estudiantil',\n",
    "'percentil_c_naturales',\n",
    "'percentil_global',\n",
    "'percentil_ingles',\n",
    "'percentil_lectura_critica',\n",
    "'percentil_matematicas',\n",
    "'percentil_sociales_ciudadanas',\n",
    "'cole_cod_dane_institucion',\n",
    "'cole_cod_icfes',\n",
    "'cole_nombre_sede',\n",
    "'periodo',\n",
    "'estu_consecutivo',\n",
    "'estu_tipo_documento', \n",
    "'estu_cod_reside_depto',\n",
    "'punt_c_naturales',\n",
    "'punt_ingles',\n",
    "'punt_lectura_critica',\n",
    "'punt_matematicas',\n",
    "'punt_sociales_ciudadanas',\n",
    "'cole_cod_mcpio_ubicacion'\n",
    "])\n",
    "\n",
    "\n",
    "# list(df.columns.values)\n"
   ]
  },
  {
   "cell_type": "code",
   "execution_count": 285,
   "metadata": {},
   "outputs": [],
   "source": [
    "# pandas_profiling.ProfileReport(df)"
   ]
  },
  {
   "cell_type": "code",
   "execution_count": 286,
   "metadata": {},
   "outputs": [],
   "source": [
    "df['discapacitado'] = ~pd.isna(df['estu_limita_autismo']) | ~pd.isna(df['estu_limita_condicionespecial']) | ~pd.isna(df['estu_limita_invidente'])| ~pd.isna(df['estu_limita_motriz'])| ~pd.isna(df['estu_limita_sdown'])| ~pd.isna(df['estu_limita_sordo']) "
   ]
  },
  {
   "cell_type": "markdown",
   "metadata": {},
   "source": [
    "Nivel ingles\n",
    "- insuficiente 0-40\n",
    "- minimo 41-68\n",
    "- satisfactorio 69-80 \n",
    "- avanzado 81-100\n",
    "\n",
    "---\n",
    "- A- 0-10\n",
    "- A1 21-40\n",
    "- A2 41-68\n",
    "- B1 69-80\n",
    "- B+ 81-100\n"
   ]
  },
  {
   "cell_type": "code",
   "execution_count": 287,
   "metadata": {},
   "outputs": [
    {
     "data": {
      "text/plain": [
       "(10000, 57)"
      ]
     },
     "execution_count": 287,
     "metadata": {},
     "output_type": "execute_result"
    }
   ],
   "source": [
    "df.shape"
   ]
  },
  {
   "cell_type": "code",
   "execution_count": null,
   "metadata": {},
   "outputs": [],
   "source": []
  },
  {
   "cell_type": "code",
   "execution_count": 288,
   "metadata": {},
   "outputs": [],
   "source": [
    "# df.punt_global = df.punt_global.astype(float)\n",
    "# df['punt_global'] = pd.cut(df['punt_global'],[-1,100,200,300,400,500],right=True,labels=(1,2,3,4,5))"
   ]
  },
  {
   "cell_type": "code",
   "execution_count": 289,
   "metadata": {},
   "outputs": [],
   "source": [
    "df.shape\n",
    "X = df.drop('punt_global', axis=1)\n",
    "y = df['punt_global']"
   ]
  },
  {
   "cell_type": "code",
   "execution_count": 290,
   "metadata": {},
   "outputs": [],
   "source": [
    "from sklearn.model_selection import train_test_split\n",
    "\n",
    "X_train, X_test, y_train, y_test = train_test_split(X, y, random_state=1)"
   ]
  },
  {
   "cell_type": "code",
   "execution_count": 291,
   "metadata": {},
   "outputs": [],
   "source": [
    "from sklearn import tree\n",
    "\n",
    "model = tree.DecisionTreeClassifier()"
   ]
  },
  {
   "cell_type": "code",
   "execution_count": 295,
   "metadata": {},
   "outputs": [
    {
     "ename": "ValueError",
     "evalue": "could not convert string to float: 'N'",
     "output_type": "error",
     "traceback": [
      "\u001b[0;31m---------------------------------------------------------------------------\u001b[0m",
      "\u001b[0;31mValueError\u001b[0m                                Traceback (most recent call last)",
      "\u001b[0;32m<ipython-input-295-d768f88d541e>\u001b[0m in \u001b[0;36m<module>\u001b[0;34m()\u001b[0m\n\u001b[0;32m----> 1\u001b[0;31m \u001b[0mmodel\u001b[0m\u001b[0;34m.\u001b[0m\u001b[0mfit\u001b[0m\u001b[0;34m(\u001b[0m\u001b[0mX_train\u001b[0m\u001b[0;34m,\u001b[0m \u001b[0my_train\u001b[0m\u001b[0;34m)\u001b[0m\u001b[0;34m\u001b[0m\u001b[0m\n\u001b[0m",
      "\u001b[0;32m~/anaconda3/lib/python3.6/site-packages/sklearn/tree/tree.py\u001b[0m in \u001b[0;36mfit\u001b[0;34m(self, X, y, sample_weight, check_input, X_idx_sorted)\u001b[0m\n\u001b[1;32m    788\u001b[0m             \u001b[0msample_weight\u001b[0m\u001b[0;34m=\u001b[0m\u001b[0msample_weight\u001b[0m\u001b[0;34m,\u001b[0m\u001b[0;34m\u001b[0m\u001b[0m\n\u001b[1;32m    789\u001b[0m             \u001b[0mcheck_input\u001b[0m\u001b[0;34m=\u001b[0m\u001b[0mcheck_input\u001b[0m\u001b[0;34m,\u001b[0m\u001b[0;34m\u001b[0m\u001b[0m\n\u001b[0;32m--> 790\u001b[0;31m             X_idx_sorted=X_idx_sorted)\n\u001b[0m\u001b[1;32m    791\u001b[0m         \u001b[0;32mreturn\u001b[0m \u001b[0mself\u001b[0m\u001b[0;34m\u001b[0m\u001b[0m\n\u001b[1;32m    792\u001b[0m \u001b[0;34m\u001b[0m\u001b[0m\n",
      "\u001b[0;32m~/anaconda3/lib/python3.6/site-packages/sklearn/tree/tree.py\u001b[0m in \u001b[0;36mfit\u001b[0;34m(self, X, y, sample_weight, check_input, X_idx_sorted)\u001b[0m\n\u001b[1;32m    114\u001b[0m         \u001b[0mrandom_state\u001b[0m \u001b[0;34m=\u001b[0m \u001b[0mcheck_random_state\u001b[0m\u001b[0;34m(\u001b[0m\u001b[0mself\u001b[0m\u001b[0;34m.\u001b[0m\u001b[0mrandom_state\u001b[0m\u001b[0;34m)\u001b[0m\u001b[0;34m\u001b[0m\u001b[0m\n\u001b[1;32m    115\u001b[0m         \u001b[0;32mif\u001b[0m \u001b[0mcheck_input\u001b[0m\u001b[0;34m:\u001b[0m\u001b[0;34m\u001b[0m\u001b[0m\n\u001b[0;32m--> 116\u001b[0;31m             \u001b[0mX\u001b[0m \u001b[0;34m=\u001b[0m \u001b[0mcheck_array\u001b[0m\u001b[0;34m(\u001b[0m\u001b[0mX\u001b[0m\u001b[0;34m,\u001b[0m \u001b[0mdtype\u001b[0m\u001b[0;34m=\u001b[0m\u001b[0mDTYPE\u001b[0m\u001b[0;34m,\u001b[0m \u001b[0maccept_sparse\u001b[0m\u001b[0;34m=\u001b[0m\u001b[0;34m\"csc\"\u001b[0m\u001b[0;34m)\u001b[0m\u001b[0;34m\u001b[0m\u001b[0m\n\u001b[0m\u001b[1;32m    117\u001b[0m             \u001b[0my\u001b[0m \u001b[0;34m=\u001b[0m \u001b[0mcheck_array\u001b[0m\u001b[0;34m(\u001b[0m\u001b[0my\u001b[0m\u001b[0;34m,\u001b[0m \u001b[0mensure_2d\u001b[0m\u001b[0;34m=\u001b[0m\u001b[0;32mFalse\u001b[0m\u001b[0;34m,\u001b[0m \u001b[0mdtype\u001b[0m\u001b[0;34m=\u001b[0m\u001b[0;32mNone\u001b[0m\u001b[0;34m)\u001b[0m\u001b[0;34m\u001b[0m\u001b[0m\n\u001b[1;32m    118\u001b[0m             \u001b[0;32mif\u001b[0m \u001b[0missparse\u001b[0m\u001b[0;34m(\u001b[0m\u001b[0mX\u001b[0m\u001b[0;34m)\u001b[0m\u001b[0;34m:\u001b[0m\u001b[0;34m\u001b[0m\u001b[0m\n",
      "\u001b[0;32m~/anaconda3/lib/python3.6/site-packages/sklearn/utils/validation.py\u001b[0m in \u001b[0;36mcheck_array\u001b[0;34m(array, accept_sparse, dtype, order, copy, force_all_finite, ensure_2d, allow_nd, ensure_min_samples, ensure_min_features, warn_on_dtype, estimator)\u001b[0m\n\u001b[1;32m    431\u001b[0m                                       force_all_finite)\n\u001b[1;32m    432\u001b[0m     \u001b[0;32melse\u001b[0m\u001b[0;34m:\u001b[0m\u001b[0;34m\u001b[0m\u001b[0m\n\u001b[0;32m--> 433\u001b[0;31m         \u001b[0marray\u001b[0m \u001b[0;34m=\u001b[0m \u001b[0mnp\u001b[0m\u001b[0;34m.\u001b[0m\u001b[0marray\u001b[0m\u001b[0;34m(\u001b[0m\u001b[0marray\u001b[0m\u001b[0;34m,\u001b[0m \u001b[0mdtype\u001b[0m\u001b[0;34m=\u001b[0m\u001b[0mdtype\u001b[0m\u001b[0;34m,\u001b[0m \u001b[0morder\u001b[0m\u001b[0;34m=\u001b[0m\u001b[0morder\u001b[0m\u001b[0;34m,\u001b[0m \u001b[0mcopy\u001b[0m\u001b[0;34m=\u001b[0m\u001b[0mcopy\u001b[0m\u001b[0;34m)\u001b[0m\u001b[0;34m\u001b[0m\u001b[0m\n\u001b[0m\u001b[1;32m    434\u001b[0m \u001b[0;34m\u001b[0m\u001b[0m\n\u001b[1;32m    435\u001b[0m         \u001b[0;32mif\u001b[0m \u001b[0mensure_2d\u001b[0m\u001b[0;34m:\u001b[0m\u001b[0;34m\u001b[0m\u001b[0m\n",
      "\u001b[0;31mValueError\u001b[0m: could not convert string to float: 'N'"
     ]
    }
   ],
   "source": [
    "model.fit(X_train, y_train)\n"
   ]
  },
  {
   "cell_type": "code",
   "execution_count": 293,
   "metadata": {},
   "outputs": [
    {
     "data": {
      "text/plain": [
       "['cole_area_ubicacion',\n",
       " 'cole_calendario',\n",
       " 'cole_caracter',\n",
       " 'cole_genero',\n",
       " 'cole_jornada',\n",
       " 'cole_naturaleza',\n",
       " 'cole_valor_pension',\n",
       " 'desemp_c_naturales',\n",
       " 'desemp_ingles',\n",
       " 'desemp_lectura_critica',\n",
       " 'desemp_matematicas',\n",
       " 'desemp_sociales_ciudadanas',\n",
       " 'estu_area_reside',\n",
       " 'estu_cod_depto_presentacion',\n",
       " 'estu_cod_mcpio_presentacion',\n",
       " 'estu_cod_reside_mcpio',\n",
       " 'estu_depto_presentacion',\n",
       " 'estu_edad',\n",
       " 'estu_estudiante',\n",
       " 'estu_genero',\n",
       " 'estu_limita_autismo',\n",
       " 'estu_limita_condicionespecial',\n",
       " 'estu_limita_invidente',\n",
       " 'estu_limita_motriz',\n",
       " 'estu_limita_sdown',\n",
       " 'estu_limita_sordo',\n",
       " 'estu_mcpio_presentacion',\n",
       " 'estu_numero_libros',\n",
       " 'estu_pais_reside',\n",
       " 'estu_privado_libertad',\n",
       " 'estu_reside_depto',\n",
       " 'estu_reside_mcpio',\n",
       " 'estu_trabaja',\n",
       " 'estu_veces_estado',\n",
       " 'estu_zona_reside',\n",
       " 'fami_automovil',\n",
       " 'fami_computador',\n",
       " 'fami_cuartos_hogar',\n",
       " 'fami_dvd',\n",
       " 'fami_educa_madre',\n",
       " 'fami_educa_padre',\n",
       " 'fami_estrato_vivienda',\n",
       " 'fami_horno',\n",
       " 'fami_ingreso_fmiliar_mensual',\n",
       " 'fami_internet',\n",
       " 'fami_lavadora',\n",
       " 'fami_microondas',\n",
       " 'fami_nivel_sisben',\n",
       " 'fami_num_hermanos',\n",
       " 'fami_ocupa_madre',\n",
       " 'fami_ocupa_padre',\n",
       " 'fami_personas_hogar',\n",
       " 'fami_pisoshogar',\n",
       " 'fami_servicio_television',\n",
       " 'fami_telefono_fijo',\n",
       " 'punt_global',\n",
       " 'discapacitado']"
      ]
     },
     "execution_count": 293,
     "metadata": {},
     "output_type": "execute_result"
    }
   ],
   "source": [
    "list(df.columns)"
   ]
  },
  {
   "cell_type": "code",
   "execution_count": 272,
   "metadata": {},
   "outputs": [],
   "source": [
    "# df['cole_area_ubicacion'].replace(['U','R',float('nan')],[0,1,-1],inplace=True)\n"
   ]
  },
  {
   "cell_type": "code",
   "execution_count": 273,
   "metadata": {},
   "outputs": [],
   "source": [
    "# df['cole_calendario'].replace(['A','O',float('nan')],[0,1,-1],inplace=True)"
   ]
  },
  {
   "cell_type": "code",
   "execution_count": 275,
   "metadata": {},
   "outputs": [],
   "source": [
    "# df['cole_caracter'].replace(['ACADÉMICO', 'TÉCNICO/ACADÉMICO', 'TÉCNICO', 'NO_APLICA',float('nan')],[0,1,2,3,-1],inplace=True)"
   ]
  },
  {
   "cell_type": "code",
   "execution_count": 278,
   "metadata": {},
   "outputs": [
    {
     "data": {
      "text/plain": [
       "array([ 0, -1,  1,  2,  3])"
      ]
     },
     "execution_count": 278,
     "metadata": {},
     "output_type": "execute_result"
    }
   ],
   "source": [
    "# df['cole_caracter'].unique()"
   ]
  },
  {
   "cell_type": "code",
   "execution_count": 328,
   "metadata": {},
   "outputs": [
    {
     "name": "stdout",
     "output_type": "stream",
     "text": [
      "['U' nan 'R']\n",
      "['A' nan 'O']\n",
      "['ACADÉMICO' nan 'TÉCNICO/ACADÉMICO' 'TÉCNICO' 'NO_APLICA']\n",
      "['MIXTO' nan 'FEMENINO' 'MASCULINO']\n",
      "['C' nan 'M' 'T' 'N' 'S' 'U']\n",
      "['NO OFICIAL' 'OTRO' 'OFICIAL']\n",
      "['5' nan '1' '6' '3' '4' '2']\n",
      "['3' '1' '4' '2']\n",
      "['A1' 'A2' 'A-' 'B1' 'B+']\n",
      "['4' '3' '2' '1']\n",
      "['3' '2' '4' '1']\n",
      "['3' '2' '1' '4']\n",
      "['R' 'U']\n",
      "['05' '11' '15' '54' '19' '08' '81' '68' '91' '50' '52' '76' '41' '70'\n",
      " '13' '63' '20' '66' '17' '44' '25' '18' '86' '47' '73' '85' '23' '97'\n",
      " '88' '27' '99']\n",
      "['05380' '11001' '05266' '15238' '54001' '19001' '08001' '81736' '05631'\n",
      " '68001' '54518' '91001' '50001' '05001' '05045' '15516' '52001' '05615'\n",
      " '76001' '41001' '19698' '68276' '76130' '76823' '70215' '05360' '05129'\n",
      " '76109' '15001' '05088' '05051' '76895' '13001' '63001' '63594' '15759'\n",
      " '76111' '20013' '08758' '68190' '76834' '66001' '17001' '52683' '44279'\n",
      " '25175' '52356' '05376' '05318' '17380' '76520' '18001' '41551' '68432'\n",
      " '86885' '44650' '52838' '76364' '86568' '20011' '47001' '25320' '73124'\n",
      " '85001' '19397' '25307' '25269' '68081' '81001' '41298' '20400' '19100'\n",
      " '23660' '25286' '76400' '05736' '68895' '70713' '23675' '23001' '25754'\n",
      " '76147' '05756' '17486' '68755' '54498' '68077' '05030' '47245' '25875'\n",
      " '05440' '68167' '41807' '25473' '25843' '25126' '08634' '05079' '70001'\n",
      " '25430' '05686' '05679' '15176' '25040' '15469' '05154' '68679' '76122'\n",
      " '85250' '76246' '73001' '05034' '73449' '20001' '97001' '05148' '76113'\n",
      " '52227' '70508' '63130' '68547' '86001' '15507' '05837' '52399' '73349'\n",
      " '76892' '76622' '81065' '19212' '76233' '76248' '17042' '54874' '15299'\n",
      " '25513' '19455' '08433' '44430' '25740' '41306' '25386' '76828' '20178'\n",
      " '47189' '66170' '20710' '05212' '81794' '63190' '76275' '25899' '18247'\n",
      " '52835' '76318' '25290' '73268' '88001' '05368' '76736' '05237' '13052'\n",
      " '19450' '27001' '25491' '13836' '47318' '76243' '70678' '08685' '25402'\n",
      " '05250' '44001' '54660' '52693' '47798' '85010' '23555' '05858' '05664'\n",
      " '17653' '66682' '25183' '20060' '05042' '52585' '15407' '13006' '68307'\n",
      " '05172' '13430' '15835' '41668' '52019' '52786' '99524' '97511' '13442'\n",
      " '23162' '76100' '52250' '05361' '19256' '25769' '08078' '05579' '19573'\n",
      " '25245' '15183' '63401' '68235' '52317' '25815' '20032' '19743' '76036'\n",
      " '70708' '52678' '73168' '73443' '50573' '05895' '25377' '73624' '05120'\n",
      " '70820' '23807' '41524' '97666' '86865' '19548' '13244' '41396' '44874'\n",
      " '50313' '86320' '73408' '73352' '05495' '23417' '63548' '25151' '05190'\n",
      " '18753' '05890' '70235' '73411' '18150' '52260' '44847' '54003' '66594'\n",
      " '76563' '52788' '47551' '19517' '85162' '05147' '17174' '15753' '68861'\n",
      " '99001' '52378' '50006' '52207' '70429' '19075' '66088' '05670' '27430'\n",
      " '15097']\n",
      "['05380' '11001' '05266' '15516' '54001' '19001' '08001' '81736' '15238'\n",
      " '05631' '68307' '54518' '91001' '50001' '05001' '05045' '15806' '52001'\n",
      " '08758' '05615' '76001' '41001' '19698' '81300' '68276' '76130' '76823'\n",
      " '70215' '70702' '05360' '05129' '76109' '15001' '05088' '05051' '76895'\n",
      " '13001' '63001' '50370' '63594' '63470' '15759' '76111' '20013' '18150'\n",
      " '68190' '76834' '66001' '17001' '68001' '52411' '44098' '25214' '44279'\n",
      " '52356' '05400' '05318' '15572' '17873' '76520' '18001' '41660' '68432'\n",
      " '86885' '44650' '52838' '76364' '76890' '19807' '86568' '20011' '47001'\n",
      " '25320' '73124' '85001' '19022' '25307' '25269' '68081' '81001' '41319'\n",
      " '20400' '25175' '05206' '23660' '99999' '73275' '25473' '76403' '05736'\n",
      " '68895' '70713' '23675' '23001' '17380' '25596' '76147' '05756' '17486'\n",
      " '68745' '54498' '68572' '05308' '08137' '25286' '05282' '13268' '41298'\n",
      " '15469' '25875' '25612' '05440' '68298' '41807' '25793' '76497' '25126'\n",
      " '25781' '25899' '08634' '18460' '70001' '52240' '15097' '68077' '25580'\n",
      " '05086' '05686' '05679' '15176' '25040' '05154' '68679' '23090' '76122'\n",
      " '25785' '52885' '85250' '76246' '73001' '05034' '73449' '20001' '70670'\n",
      " '97001' '05148' '76113' '52227' '05376' '76670' '70508' '63130' '68547'\n",
      " '76318' '86001' '15507' '05837' '52399' '15500' '73349' '76892' '76622'\n",
      " '08078' '19142' '81065' '19212' '76233' '76248' '52687' '17042' '54874'\n",
      " '15299' '25518' '25430' '19455' '08433' '25513' '44430' '25740' '25754'\n",
      " '41306' '25599' '76828' '20178' '25843' '47189' '66170' '68855' '20770'\n",
      " '68533' '05212' '85315' '63272' '66440' '05002' '76275' '41357' '68327'\n",
      " '52480' '18247' '52835' '25799' '25290' '73268' '88001' '05576' '76736'\n",
      " '05237' '13873' '05893' '85410' '73483' '13052' '19450' '27001' '54720'\n",
      " '54405' '15215' '25862' '27600' '05607' '25736' '13836' '66682' '47318'\n",
      " '76243' '52354' '70678' '25386' '76020' '85162' '19622' '08685' '50006'\n",
      " '68755' '05250' '76869' '52381' '81794' '68684' '68418' '44001' '54660'\n",
      " '52693' '47798' '85010' '25224' '05368' '23555' '05240' '05885' '41020'\n",
      " '05664' '17050' '68820' '25295' '20060' '19110' '15293' '25817' '52585'\n",
      " '52258' '05042' '05642' '52022' '13006' '05172' '20295' '15212' '05660'\n",
      " '19100' '13430' '15842' '15804' '41668' '05021' '52019' '17272' '68229'\n",
      " '41791' '25053' '41551' '99524' '25758' '68266' '19300' '97511' '13442'\n",
      " '23162' '15599' '76100' '52250' '05361' '13300' '85279' '19256' '13188'\n",
      " '25769' '08372' '05579' '19573' '18860' '76863' '15104' '25035' '68872'\n",
      " '05234' '25245' '15183' '05310' '76250' '63401' '54099' '52317' '05093'\n",
      " '19548' '20032' '19743' '15822' '76036' '70708' '52699' '08296' '73555'\n",
      " '25099' '27250' '41548' '19845' '73283' '05030' '68020' '50573' '25572'\n",
      " '05895' '25322' '73624' '05790' '70823' '52678' '23807' '41524' '97666'\n",
      " '70230' '86865' '44078' '41770' '73675' '15051' '17653' '13244' '68169'\n",
      " '41396' '52540' '44855' '50577' '68160' '86320' '47245' '05079' '73408'\n",
      " '25524' '18094' '05495' '23417' '25594' '05690' '18753' '23079' '25823'\n",
      " '52683' '70235' '17174' '15814' '66318' '15296' '73411' '44847' '54003'\n",
      " '08573' '76563' '08549' '41885' '44110' '52788' '52418' '47551' '19517'\n",
      " '05147' '15774' '68397' '66594' '99001' '52378' '66456' '52207' '25398'\n",
      " '25772' '44874' '41026' '70429' '19075' '47980' '25200' '73547' '68406'\n",
      " '27430']\n",
      "['ANTIOQUIA' 'BOGOTA' 'BOYACA' 'NORTE SANTANDER' 'CAUCA' 'ATLANTICO'\n",
      " 'ARAUCA' 'SANTANDER' 'AMAZONAS' 'META' 'NARIÑO' 'VALLE' 'HUILA' 'SUCRE'\n",
      " 'BOLIVAR' 'QUINDIO' 'CESAR' 'RISARALDA' 'CALDAS' 'LA GUAJIRA'\n",
      " 'CUNDINAMARCA' 'CAQUETA' 'PUTUMAYO' 'MAGDALENA' 'TOLIMA' 'CASANARE'\n",
      " 'CORDOBA' 'VAUPES' 'SAN ANDRES' 'CHOCO' 'VICHADA']\n",
      "['18' '16' '19' '17' '28' '26' '30' '21' '15' '22' '20' '45' '25' '23'\n",
      " '42' '35' '37' '43' '34' '27' '29' '24' '39' '32' '33' '0' '11' '55' '46'\n",
      " '14' '40' '36' '60' '38' '49' '31' '41' '44' '58' '53' '52' '48' '56'\n",
      " '54' '65' '50' '1' '57' '51' '3' '6' '61' '62' '71']\n",
      "['ESTUDIANTE' 'INDIVIDUAL']\n",
      "['M' 'F']\n",
      "[nan 'AA']\n",
      "[nan 'CE']\n",
      "[nan 'VIS']\n",
      "[nan 'MOT']\n",
      "[nan 'SD']\n",
      "[nan 'AUD']\n",
      "['LA ESTRELLA' 'BOGOTÁ D.C.' 'ENVIGADO' 'DUITAMA' 'CUCUTA' 'POPAYAN'\n",
      " 'BARRANQUILLA' 'SARAVENA' 'SABANETA' 'BUCARAMANGA' 'PAMPLONA' 'LETICIA'\n",
      " 'VILLAVICENCIO' 'MEDELLIN' 'APARTADO' 'PAIPA' 'PASTO' 'RIONEGRO' 'CALI'\n",
      " 'NEIVA' 'SANTANDER DE QUILICHAO' 'FLORIDABLANCA' 'CANDELARIA' 'TORO'\n",
      " 'COROZAL' 'ITAGUI' 'CALDAS' 'BUENAVENTURA' 'TUNJA' 'BELLO' 'ARBOLETES'\n",
      " 'ZARZAL' 'CARTAGENA' 'ARMENIA' 'QUIMBAYA' 'SOGAMOSO' 'BUGA'\n",
      " 'AGUSTIN CODAZZI' 'SOLEDAD' 'CIMITARRA' 'TULUA' 'PEREIRA' 'MANIZALES'\n",
      " 'SANDONA' 'FONSECA' 'CHIA' 'IPIALES' 'LA CEJA' 'GUARNE' 'LA DORADA'\n",
      " 'PALMIRA' 'FLORENCIA' 'PITALITO' 'MALAGA' 'VILLAGARZON'\n",
      " 'SAN JUAN DEL CESAR' 'TUQUERRES' 'JAMUNDI' 'PUERTO ASIS' 'AGUACHICA'\n",
      " 'SANTA MARTA' 'GUADUAS' 'CAJAMARCA' 'YOPAL' 'LA VEGA' 'GIRARDOT'\n",
      " 'FACATATIVA' 'BARRANCABERMEJA' 'ARAUCA' 'GARZON' 'LA JAGUA DE IBIRICO'\n",
      " 'BOLIVAR' 'SAHAGUN' 'FUNZA' 'LA UNION' 'SEGOVIA' 'ZAPATOCA' 'SAN ONOFRE'\n",
      " 'SAN BERNARDO DEL VIENTO' 'MONTERIA' 'SOACHA' 'CARTAGO' 'SONSON' 'NEIRA'\n",
      " 'SOCORRO' 'OCAÑA' 'BARBOSA' 'AMAGA' 'EL BANCO' 'VILLETA' 'MARINILLA'\n",
      " 'CHARALA' 'TIMANA' 'MOSQUERA' 'UBATE' 'CAJICA' 'SABANAGRANDE' 'SINCELEJO'\n",
      " 'MADRID' 'SANTA ROSA DE OSOS' 'SANTA BARBARA' 'CHIQUINQUIRA' 'ANOLAIMA'\n",
      " 'MONIQUIRA' 'CAUCASIA' 'SAN GIL' 'CAICEDONIA' 'PAZ DE ARIPORO' 'EL CAIRO'\n",
      " 'IBAGUE' 'ANDES' 'MELGAR' 'VALLEDUPAR' 'MITU' 'CARMEN DE VIBORAL'\n",
      " 'BUGALAGRANDE' 'CUMBAL' 'OVEJAS' 'CALARCA' 'PIEDECUESTA' 'MOCOA'\n",
      " 'OTANCHE' 'TURBO' 'HONDA' 'YUMBO' 'ROLDANILLO' 'ARAUQUITA' 'CORINTO'\n",
      " 'DAGUA' 'EL CERRITO' 'ANSERMA' 'VILLA DEL ROSARIO' 'GARAGOA' 'PACHO'\n",
      " 'MIRANDA' 'MALAMBO' 'MAICAO' 'SIBATE' 'GIGANTE' 'LA MESA' 'TRUJILLO'\n",
      " 'CHIRIGUANA' 'CIENAGA' 'DOS QUEBRADAS' 'SAN ALBERTO' 'COPACABANA' 'TAME'\n",
      " 'CIRCASIA' 'FLORIDA' 'ZIPAQUIRA' 'EL DONCELLO' 'TUMACO' 'GUACARI'\n",
      " 'FUSAGASUGA' 'ESPINAL' 'SAN ANDRES' 'JERICO' 'SEVILLA' 'DON MATIAS'\n",
      " 'ARJONA' 'MERCADERES' 'QUIBDO' 'NOCAIMA' 'TURBACO' 'GUAMAL' 'EL AGUILA'\n",
      " 'SAN BENITO ABAD' 'SANTO TOMAS' 'EL BAGRE' 'RIOHACHA' 'SALAZAR'\n",
      " 'SAN PABLO' 'TENERIFE' 'AGUAZUL' 'PLANETA RICA' 'VEGACHI' 'SAN PEDRO'\n",
      " 'SALAMINA' 'SANTA ROSA DE CABAL' 'CHOCONTA' 'BOSCONIA'\n",
      " 'SANTAFÉ DE ANTIOQUIA' 'PUPIALES' 'VILLA DE LEYVA' 'ACHI' 'GIRON'\n",
      " 'CHIGORODO' 'MAGANGUE' 'TURMEQUE' 'SAN AGUSTIN' 'ALBAN (SAN JOSE)'\n",
      " 'TAMINANGO' 'LA PRIMAVERA' 'PACOA' 'MARIA LA BAJA' 'CERETE' 'EL CHARCO'\n",
      " 'ITUANGO' 'EL TAMBO' 'SUBACHOQUE' 'BARANOA' 'PUERTO BERRIO'\n",
      " 'PUERTO TEJADA' 'EL COLEGIO' 'CHITA' 'LA TEBAIDA' 'EL CARMEN' 'GUACHUCAL'\n",
      " 'TOCAIMA' 'ASTREA' 'SILVIA' 'ANDALUCIA' 'SAN MARCOS' 'SAMANIEGO'\n",
      " 'CHAPARRAL' 'MARIQUITA' 'PUERTO LOPEZ' 'ZARAGOZA' 'LA CALERA' 'ROVIRA'\n",
      " 'CACERES' 'TOLU' 'TIERRALTA' 'PALERMO' 'TARAIRA'\n",
      " 'VILLA GUAMEZ (LA HORMIGA)' 'PIENDAMO' 'EL CARMEN DE BOLIVAR' 'LA PLATA'\n",
      " 'VILLANUEVA' 'GRANADA' 'ORITO' 'LERIDA' 'ICONONZO' 'NECHI' 'LORICA'\n",
      " 'PIJAO' 'CAQUEZA' 'CISNEROS' 'SAN VICENTE DEL CAGUAN' 'YOLOMBO'\n",
      " 'GALERAS (NUEVA GRANADA)' 'LIBANO' 'CARTAGENA DEL CHAIRA' 'URIBIA'\n",
      " 'ABREGO' 'QUINCHIA' 'PRADERA' 'TANGUA' 'PIVIJAY' 'PAEZ (BELALCAZAR)'\n",
      " 'MONTERREY' 'CAREPA' 'CHINCHINA' 'SOATA' 'VELEZ' 'PUERTO CARREÑO'\n",
      " 'LA CRUZ' 'ACACIAS' 'CONSACA' 'MAJAGUAL' 'BALBOA' 'BELEN DE UMBRIA'\n",
      " 'SAN ROQUE' 'MEDIO BAUDO' 'BOAVITA']\n",
      "['11 A 25 LIBROS' '0 A 10 LIBROS' '26 A 100 LIBROS' 'MÁS DE 100 LIBROS']\n",
      "['1' '241' '67' '236' '174' '23' '12' '218' '65' '15' '209']\n",
      "['N' 'S']\n",
      "['ANTIOQUIA' 'BOGOTA' 'BOYACA' 'NORTE SANTANDER' 'CAUCA' 'ATLANTICO'\n",
      " 'ARAUCA' 'SANTANDER' 'AMAZONAS' 'META' 'NARIÑO' 'VALLE' 'HUILA' 'SUCRE'\n",
      " 'BOLIVAR' 'QUINDIO' 'CESAR' 'CAQUETA' 'RISARALDA' 'CALDAS' 'LA GUAJIRA'\n",
      " 'CUNDINAMARCA' 'PUTUMAYO' 'MAGDALENA' 'TOLIMA' 'CASANARE' 'CORDOBA'\n",
      " 'EXTRANJERO' 'VAUPES' 'SAN ANDRES' 'CHOCO' 'VICHADA']\n",
      "['LA ESTRELLA' 'BOGOTÁ D.C.' 'ENVIGADO' 'PAIPA' 'CUCUTA' 'POPAYAN'\n",
      " 'BARRANQUILLA' 'SARAVENA' 'DUITAMA' 'SABANETA' 'GIRON' 'PAMPLONA'\n",
      " 'LETICIA' 'VILLAVICENCIO' 'MEDELLIN' 'APARTADO' 'TIBASOSA' 'PASTO'\n",
      " 'SOLEDAD' 'RIONEGRO' 'CALI' 'NEIVA' 'SANTANDER DE QUILICHAO' 'FORTUL'\n",
      " 'FLORIDABLANCA' 'CANDELARIA' 'TORO' 'COROZAL' 'SAN JUAN DE BETULIA'\n",
      " 'ITAGUI' 'CALDAS' 'BUENAVENTURA' 'TUNJA' 'BELLO' 'ARBOLETES' 'ZARZAL'\n",
      " 'CARTAGENA' 'ARMENIA' 'LA URIBE' 'QUIMBAYA' 'MONTENEGRO' 'SOGAMOSO'\n",
      " 'BUGA' 'AGUSTIN CODAZZI' 'CARTAGENA DEL CHAIRA' 'CIMITARRA' 'TULUA'\n",
      " 'PEREIRA' 'MANIZALES' 'BUCARAMANGA' 'LINARES' 'DISTRACCION' 'COTA'\n",
      " 'FONSECA' 'IPIALES' 'LA UNION' 'GUARNE' 'PUERTO BOYACA' 'VILLAMARIA'\n",
      " 'PALMIRA' 'FLORENCIA' 'SALADOBLANCO' 'MALAGA' 'VILLAGARZON'\n",
      " 'SAN JUAN DEL CESAR' 'TUQUERRES' 'JAMUNDI' 'YOTOCO' 'TIMBIO'\n",
      " 'PUERTO ASIS' 'AGUACHICA' 'SANTA MARTA' 'GUADUAS' 'CAJAMARCA' 'YOPAL'\n",
      " 'ALMAGUER' 'GIRARDOT' 'FACATATIVA' 'BARRANCABERMEJA' 'ARAUCA' 'GUADALUPE'\n",
      " 'LA JAGUA DE IBIRICO' 'CHIA' 'CONCEPCION' 'SAHAGUN' 'EXTRANJERO'\n",
      " 'FLANDES' 'MOSQUERA' 'LA VICTORIA' 'SEGOVIA' 'ZAPATOCA' 'SAN ONOFRE'\n",
      " 'SAN BERNARDO DEL VIENTO' 'MONTERIA' 'LA DORADA' 'QUIPILE' 'CARTAGO'\n",
      " 'SONSON' 'NEIRA' 'SIMACOTA' 'OCAÑA' 'PUENTE NACIONAL' 'GIRARDOTA'\n",
      " 'CAMPO DE LA CRUZ' 'FUNZA' 'FREDONIA' 'EL PEÑON' 'GARZON' 'MONIQUIRA'\n",
      " 'VILLETA' 'RICAURTE' 'MARINILLA' 'GAMBITA' 'TIMANA' 'TAUSA' 'OBANDO'\n",
      " 'CAJICA' 'SUTATAUSA' 'ZIPAQUIRA' 'SABANAGRANDE' 'MILAN' 'SINCELEJO'\n",
      " 'CHACHAGUI' 'BOAVITA' 'BARBOSA' 'PULI' 'BELMIRA' 'SANTA ROSA DE OSOS'\n",
      " 'SANTA BARBARA' 'CHIQUINQUIRA' 'ANOLAIMA' 'CAUCASIA' 'SAN GIL' 'CANALETE'\n",
      " 'CAICEDONIA' 'TABIO' 'YACUANQUER' 'PAZ DE ARIPORO' 'EL CAIRO' 'IBAGUE'\n",
      " 'ANDES' 'MELGAR' 'VALLEDUPAR' 'SAMPUES' 'MITU' 'CARMEN DE VIBORAL'\n",
      " 'BUGALAGRANDE' 'CUMBAL' 'LA CEJA' 'SAN PEDRO' 'OVEJAS' 'CALARCA'\n",
      " 'PIEDECUESTA' 'GUACARI' 'MOCOA' 'OTANCHE' 'TURBO' 'OICATA' 'HONDA'\n",
      " 'YUMBO' 'ROLDANILLO' 'BARANOA' 'CALOTO' 'ARAUQUITA' 'CORINTO' 'DAGUA'\n",
      " 'EL CERRITO' 'SAN LORENZO' 'ANSERMA' 'VILLA DEL ROSARIO' 'GARAGOA'\n",
      " 'PAIME' 'MADRID' 'MIRANDA' 'MALAMBO' 'PACHO' 'MAICAO' 'SIBATE' 'SOACHA'\n",
      " 'GIGANTE' 'RAFAEL REYES (APULO)' 'TRUJILLO' 'CHIRIGUANA' 'UBATE'\n",
      " 'CIENAGA' 'DOS QUEBRADAS' 'VALLE DE SAN JOSE' 'SAN MARTIN' 'PARAMO'\n",
      " 'COPACABANA' 'SACAMA' 'FILANDIA' 'MARSELLA' 'ABEJORRAL' 'FLORIDA'\n",
      " 'IQUIRA' 'GUEPSA' 'NARIÑO' 'EL DONCELLO' 'TUMACO' 'TENJO' 'FUSAGASUGA'\n",
      " 'ESPINAL' 'SAN ANDRES' 'PUEBLORRICO' 'SEVILLA' 'DON MATIAS' 'VILLANUEVA'\n",
      " 'YONDO (CASABE)' 'TAURAMENA' 'NATAGAIMA' 'ARJONA' 'MERCADERES' 'QUIBDO'\n",
      " 'SARDINATA' 'LOS PATIOS' 'CORRALES' 'VERGARA' 'RIO QUITO' 'RETIRO'\n",
      " 'SESQUILE' 'TURBACO' 'SANTA ROSA DE CABAL' 'GUAMAL' 'EL AGUILA' 'IMUES'\n",
      " 'SAN BENITO ABAD' 'LA MESA' 'ALCALA' 'MONTERREY' 'ROSAS' 'SANTO TOMAS'\n",
      " 'ACACIAS' 'SOCORRO' 'EL BAGRE' 'VIJES' 'LA FLORIDA' 'TAME'\n",
      " 'SAN JOSE DE MIRANDA' 'LOS SANTOS' 'RIOHACHA' 'SALAZAR' 'SAN PABLO'\n",
      " 'TENERIFE' 'AGUAZUL' 'CUCUNUBA' 'JERICO' 'PLANETA RICA' 'EBEJICO' 'YALI'\n",
      " 'ALGECIRAS' 'ARANZAZU' 'TONA' 'GACHANCIPA' 'BOSCONIA' 'BUENOS AIRES'\n",
      " 'GACHANTIVA' 'TOCANCIPA' 'PUPIALES' 'EL TABLON' 'SANTAFÉ DE ANTIOQUIA'\n",
      " 'SALGAR' 'ALDANA' 'ACHI' 'CHIGORODO' 'GAMARRA' 'COPER' 'SAN LUIS'\n",
      " 'BOLIVAR' 'MAGANGUE' 'UMBITA' 'TIBANA' 'SAN AGUSTIN' 'ALEJANDRIA'\n",
      " 'ALBAN (SAN JOSE)' 'FILADELFIA' 'CURITI' 'TARQUI' 'ARBELAEZ' 'PITALITO'\n",
      " 'LA PRIMAVERA' 'SOPO' 'ENCISO' 'GUACHENÉ' 'PACOA' 'MARIA LA BAJA'\n",
      " 'CERETE' 'RAMIRIQUI' 'EL CHARCO' 'ITUANGO' 'HATILLO DE LOBA' 'RECETOR'\n",
      " 'EL TAMBO' 'CICUCO' 'SUBACHOQUE' 'JUAN DE ACOSTA' 'PUERTO BERRIO'\n",
      " 'PUERTO TEJADA' 'VALPARAISO' 'VERSALLES' 'BOYACA' 'ANAPOIMA' 'DABEIBA'\n",
      " 'EL COLEGIO' 'CHITA' 'GOMEZ PLATA' 'EL DOVIO' 'LA TEBAIDA' 'BOCHALEMA'\n",
      " 'GUACHUCAL' 'BETULIA' 'PIENDAMO' 'ASTREA' 'SILVIA' 'TOTA' 'ANDALUCIA'\n",
      " 'SAN MARCOS' 'SANTACRUZ (GUACHAVES)' 'GALAPA' 'PLANADAS' 'BOJACÁ'\n",
      " 'EL LITORAL DEL SAN JUAN' 'PITAL' 'VILLA RICA' 'FRESNO' 'AMAGA' 'ALBANIA'\n",
      " 'PUERTO LOPEZ' 'PUERTO SALGAR' 'ZARAGOZA' 'GUASCA' 'ROVIRA' 'TARAZA'\n",
      " 'TOLUVIEJO' 'SAMANIEGO' 'TIERRALTA' 'PALERMO' 'TARAIRA' 'CHALAN'\n",
      " 'VILLA GUAMEZ (LA HORMIGA)' 'BARRANCAS' 'SUAZA' 'SAN ANTONIO' 'ARCABUCO'\n",
      " 'SALAMINA' 'EL CARMEN DE BOLIVAR' 'CHARTA' 'LA PLATA' 'POLICARPA'\n",
      " 'URUMITA' 'PUERTO LLERAS' 'CEPITA' 'ORITO' 'EL BANCO' 'LERIDA' 'PANDI'\n",
      " 'BELEN DE LOS ANDAQUIES' 'NECHI' 'LORICA' 'QUETAME' 'SANTO DOMINGO'\n",
      " 'SAN VICENTE DEL CAGUAN' 'BUENAVISTA' 'TOPAIPI' 'SANDONA'\n",
      " 'GALERAS (NUEVA GRANADA)' 'CHINCHINA' 'TOCA' 'GUATICA' 'GAMEZA' 'LIBANO'\n",
      " 'URIBIA' 'ABREGO' 'PUERTO COLOMBIA' 'PRADERA' 'PIOJO' 'YAGUARA'\n",
      " 'EL MOLINO' 'TANGUA' 'LOS ANDES (SOTOMAYOR)' 'PIVIJAY'\n",
      " 'PAEZ (BELALCAZAR)' 'CAREPA' 'SUSACON' 'LA PAZ' 'QUINCHIA'\n",
      " 'PUERTO CARREÑO' 'LA CRUZ' 'MISTRATO' 'CONSACA' 'LA PEÑA' 'SUESCA'\n",
      " 'ALTAMIRA' 'MAJAGUAL' 'BALBOA' 'ZONA BANANERA' 'COGUA' 'PIEDRAS'\n",
      " 'LEBRIJA' 'MEDIO BAUDO']\n",
      "['1' nan '2' '3']\n",
      "['1' nan '2' '4' '3']\n",
      "['10' '5' '7' '8' '4' '3' '1' '9' '6' '2']\n",
      "['N' 'S']\n",
      "['S' 'N']\n",
      "['3' '4' '2' '5' '1' '6' '7' '10' '8' '9']\n",
      "['N' 'S']\n",
      "['5' '9' '7' '2' '8' '10' '6' '3' '4' '11' '1']\n",
      "['5' '9' '4' '2' '3' '8' '1' '11' '10' '7' '6']\n",
      "['3' '5' '2' '4' '1' '6']\n",
      "['S' 'N']\n",
      "['3' '6' '7' '4' '1' '2' '5']\n",
      "['S' 'N']\n",
      "['S' 'N']\n",
      "['S' 'N']\n",
      "['5' '2' '1' '3' '4']\n",
      "['1' '0' '2' '3' '4' '5' '10' '7' '6' '9' '8']\n",
      "['10' '6' '5' '7' '9' '12' '8' '1' '11' '4' '3' '2']\n",
      "['9' '5' '7' '4' '12' '11' '1' '6' '3' '8' '2' '10']\n",
      "['3' '4' '5' '6' '2' '7' '8' '9' '12' '11' '1' '10']\n",
      "['4' '2' '1' '3']\n",
      "['S' 'N']\n",
      "['S' 'N']\n",
      "['315' '287' '181' '320' '313' '350' '204' '342' '290' '237' '194' '275'\n",
      " '302' '254' '280' '349' '250' '186' '0' '314' '307' '288' '291' '322'\n",
      " '267' '231' '252' '299' '223' '305' '334' '229' '325' '351' '265' '312'\n",
      " '212' '341' '207' '326' '310' '285' '317' '304' '345' '283' '343' '218'\n",
      " '257' '316' '359' '294' '306' '330' '166' '262' '309' '235' '180' '337'\n",
      " '274' '179' '363' '300' '356' '249' '269' '295' '221' '224' '347' '362'\n",
      " '247' '230' '258' '259' '168' '195' '297' '298' '263' '251' '271' '225'\n",
      " '331' '176' '311' '264' '292' '387' '272' '261' '279' '277' '228' '260'\n",
      " '340' '336' '282' '209' '268' '276' '205' '284' '270' '327' '253' '242'\n",
      " '286' '238' '256' '244' '245' '208' '296' '198' '216' '177' '239' '241'\n",
      " '206' '188' '213' '273' '371' '278' '308' '346' '353' '193' '236' '220'\n",
      " '385' '303' '219' '243' '318' '199' '289' '333' '222' '248' '352' '210'\n",
      " '246' '329' '215' '281' '358' '335' '182' '184' '233' '187' '319' '366'\n",
      " '201' '170' '382' '234' '338' '214' '232' '175' '354' '200' '227' '348'\n",
      " '171' '266' '367' '360' '217' '380' '301' '174' '197' '202' '324' '164'\n",
      " '185' '293' '169' '374' '192' '323' '196' '183' '240' '398' '344' '375'\n",
      " '191' '328' '332' '339' '321' '121' '357' '355' '369' '361' '203' '365'\n",
      " '372' '173' '226' '149' '255' '161' '393' '172' '211' '61' '377' '165'\n",
      " '190' '189' '178' '163' '160' '405' '379' '392' '386' '370' '420' '412'\n",
      " '438' '383' '373' '368' '156' '378' '396' '384' '364' '408' '123' '390'\n",
      " '68' '376' '162' '389' '415' '388' '167' '407' '429' '158' '381' '395'\n",
      " '402' '413' '394' '400' '159' '153' '154' '151' '152' '397' '423' '87'\n",
      " '32' '404' '145' '411' '432' '155' '440' '428' '391' '138' '108' '157'\n",
      " '426' '399' '137' '29']\n",
      "[False  True]\n"
     ]
    }
   ],
   "source": [
    "for i in list(df.columns):\n",
    "    print(df[i].unique())"
   ]
  },
  {
   "cell_type": "code",
   "execution_count": 317,
   "metadata": {},
   "outputs": [
    {
     "data": {
      "text/plain": [
       "True"
      ]
     },
     "execution_count": 317,
     "metadata": {},
     "output_type": "execute_result"
    }
   ],
   "source": [
    "False in df['fami_nivel_sisben'].isnull().values"
   ]
  },
  {
   "cell_type": "code",
   "execution_count": null,
   "metadata": {},
   "outputs": [],
   "source": [
    "labelencoder \n"
   ]
  }
 ],
 "metadata": {
  "kernelspec": {
   "display_name": "Python 3",
   "language": "python",
   "name": "python3"
  },
  "language_info": {
   "codemirror_mode": {
    "name": "ipython",
    "version": 3
   },
   "file_extension": ".py",
   "mimetype": "text/x-python",
   "name": "python",
   "nbconvert_exporter": "python",
   "pygments_lexer": "ipython3",
   "version": "3.6.4"
  }
 },
 "nbformat": 4,
 "nbformat_minor": 2
}
